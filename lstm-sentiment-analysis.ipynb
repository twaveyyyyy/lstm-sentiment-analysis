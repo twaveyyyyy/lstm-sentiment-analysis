{
 "cells": [
  {
   "cell_type": "code",
   "execution_count": null,
   "id": "2f53d3e1",
   "metadata": {
    "execution": {
     "iopub.execute_input": "2023-11-12T19:26:10.267681Z",
     "iopub.status.busy": "2023-11-12T19:26:10.267268Z",
     "iopub.status.idle": "2023-11-12T19:26:22.881250Z",
     "shell.execute_reply": "2023-11-12T19:26:22.880113Z"
    },
    "papermill": {
     "duration": 12.628934,
     "end_time": "2023-11-12T19:26:22.884009",
     "exception": false,
     "start_time": "2023-11-12T19:26:10.255075",
     "status": "completed"
    },
    "tags": []
   },
   "outputs": [],
   "source": [
    "import re\n",
    "import numpy as np\n",
    "import pandas as pd\n",
    "import tensorflow as tf\n",
    "import matplotlib.pyplot as plt\n",
    "from tensorflow.keras.preprocessing.text import Tokenizer\n",
    "from tensorflow.keras.preprocessing.sequence import pad_sequences\n",
    "from tensorflow.keras.models import Sequential\n",
    "from tensorflow.keras.optimizers import Adam\n",
    "from tensorflow.keras.layers import Embedding,Bidirectional,LSTM,Dense,Dropout,BatchNormalization\n",
    "from sklearn.model_selection import train_test_split"
   ]
  },
  {
   "cell_type": "code",
   "execution_count": 2,
   "id": "71d65844",
   "metadata": {
    "execution": {
     "iopub.execute_input": "2023-11-12T19:26:22.908702Z",
     "iopub.status.busy": "2023-11-12T19:26:22.908008Z",
     "iopub.status.idle": "2023-11-12T19:26:24.237331Z",
     "shell.execute_reply": "2023-11-12T19:26:24.236325Z"
    },
    "papermill": {
     "duration": 1.344011,
     "end_time": "2023-11-12T19:26:24.239665",
     "exception": false,
     "start_time": "2023-11-12T19:26:22.895654",
     "status": "completed"
    },
    "tags": []
   },
   "outputs": [],
   "source": [
    "df = pd.read_csv(\"/kaggle/input/imdb-dataset-of-50k-movie-reviews/IMDB Dataset.csv\")"
   ]
  },
  {
   "cell_type": "code",
   "execution_count": 3,
   "id": "ea68dccc",
   "metadata": {
    "execution": {
     "iopub.execute_input": "2023-11-12T19:26:24.262134Z",
     "iopub.status.busy": "2023-11-12T19:26:24.261372Z",
     "iopub.status.idle": "2023-11-12T19:26:24.276614Z",
     "shell.execute_reply": "2023-11-12T19:26:24.275703Z"
    },
    "papermill": {
     "duration": 0.028507,
     "end_time": "2023-11-12T19:26:24.278612",
     "exception": false,
     "start_time": "2023-11-12T19:26:24.250105",
     "status": "completed"
    },
    "tags": []
   },
   "outputs": [
    {
     "data": {
      "text/html": [
       "<div>\n",
       "<style scoped>\n",
       "    .dataframe tbody tr th:only-of-type {\n",
       "        vertical-align: middle;\n",
       "    }\n",
       "\n",
       "    .dataframe tbody tr th {\n",
       "        vertical-align: top;\n",
       "    }\n",
       "\n",
       "    .dataframe thead th {\n",
       "        text-align: right;\n",
       "    }\n",
       "</style>\n",
       "<table border=\"1\" class=\"dataframe\">\n",
       "  <thead>\n",
       "    <tr style=\"text-align: right;\">\n",
       "      <th></th>\n",
       "      <th>review</th>\n",
       "      <th>sentiment</th>\n",
       "    </tr>\n",
       "  </thead>\n",
       "  <tbody>\n",
       "    <tr>\n",
       "      <th>0</th>\n",
       "      <td>One of the other reviewers has mentioned that ...</td>\n",
       "      <td>positive</td>\n",
       "    </tr>\n",
       "    <tr>\n",
       "      <th>1</th>\n",
       "      <td>A wonderful little production. &lt;br /&gt;&lt;br /&gt;The...</td>\n",
       "      <td>positive</td>\n",
       "    </tr>\n",
       "    <tr>\n",
       "      <th>2</th>\n",
       "      <td>I thought this was a wonderful way to spend ti...</td>\n",
       "      <td>positive</td>\n",
       "    </tr>\n",
       "    <tr>\n",
       "      <th>3</th>\n",
       "      <td>Basically there's a family where a little boy ...</td>\n",
       "      <td>negative</td>\n",
       "    </tr>\n",
       "    <tr>\n",
       "      <th>4</th>\n",
       "      <td>Petter Mattei's \"Love in the Time of Money\" is...</td>\n",
       "      <td>positive</td>\n",
       "    </tr>\n",
       "  </tbody>\n",
       "</table>\n",
       "</div>"
      ],
      "text/plain": [
       "                                              review sentiment\n",
       "0  One of the other reviewers has mentioned that ...  positive\n",
       "1  A wonderful little production. <br /><br />The...  positive\n",
       "2  I thought this was a wonderful way to spend ti...  positive\n",
       "3  Basically there's a family where a little boy ...  negative\n",
       "4  Petter Mattei's \"Love in the Time of Money\" is...  positive"
      ]
     },
     "execution_count": 3,
     "metadata": {},
     "output_type": "execute_result"
    }
   ],
   "source": [
    "df.head()"
   ]
  },
  {
   "cell_type": "code",
   "execution_count": 4,
   "id": "4a79bb8f",
   "metadata": {
    "execution": {
     "iopub.execute_input": "2023-11-12T19:26:24.300322Z",
     "iopub.status.busy": "2023-11-12T19:26:24.300065Z",
     "iopub.status.idle": "2023-11-12T19:26:24.313906Z",
     "shell.execute_reply": "2023-11-12T19:26:24.313142Z"
    },
    "papermill": {
     "duration": 0.026855,
     "end_time": "2023-11-12T19:26:24.315864",
     "exception": false,
     "start_time": "2023-11-12T19:26:24.289009",
     "status": "completed"
    },
    "tags": []
   },
   "outputs": [],
   "source": [
    "sentences = df['review']\n",
    "labels = df['sentiment'].map({'negative': 0, 'positive': 1})"
   ]
  },
  {
   "cell_type": "code",
   "execution_count": 5,
   "id": "55314650",
   "metadata": {
    "execution": {
     "iopub.execute_input": "2023-11-12T19:26:24.338044Z",
     "iopub.status.busy": "2023-11-12T19:26:24.337763Z",
     "iopub.status.idle": "2023-11-12T19:26:24.345011Z",
     "shell.execute_reply": "2023-11-12T19:26:24.344270Z"
    },
    "papermill": {
     "duration": 0.020632,
     "end_time": "2023-11-12T19:26:24.346786",
     "exception": false,
     "start_time": "2023-11-12T19:26:24.326154",
     "status": "completed"
    },
    "tags": []
   },
   "outputs": [
    {
     "data": {
      "text/plain": [
       "0        1\n",
       "1        1\n",
       "2        1\n",
       "3        0\n",
       "4        1\n",
       "        ..\n",
       "49995    1\n",
       "49996    0\n",
       "49997    0\n",
       "49998    0\n",
       "49999    0\n",
       "Name: sentiment, Length: 50000, dtype: int64"
      ]
     },
     "execution_count": 5,
     "metadata": {},
     "output_type": "execute_result"
    }
   ],
   "source": [
    "labels"
   ]
  },
  {
   "cell_type": "code",
   "execution_count": 6,
   "id": "44b1e276",
   "metadata": {
    "execution": {
     "iopub.execute_input": "2023-11-12T19:26:24.368416Z",
     "iopub.status.busy": "2023-11-12T19:26:24.368145Z",
     "iopub.status.idle": "2023-11-12T19:26:24.378508Z",
     "shell.execute_reply": "2023-11-12T19:26:24.377849Z"
    },
    "papermill": {
     "duration": 0.023376,
     "end_time": "2023-11-12T19:26:24.380432",
     "exception": false,
     "start_time": "2023-11-12T19:26:24.357056",
     "status": "completed"
    },
    "tags": []
   },
   "outputs": [],
   "source": [
    "X_train, X_test, y_train, y_test = train_test_split(np.array(sentences), np.array(labels), train_size=0.8, random_state=42)"
   ]
  },
  {
   "cell_type": "code",
   "execution_count": 7,
   "id": "218b3743",
   "metadata": {
    "execution": {
     "iopub.execute_input": "2023-11-12T19:26:24.402674Z",
     "iopub.status.busy": "2023-11-12T19:26:24.402361Z",
     "iopub.status.idle": "2023-11-12T19:26:24.406283Z",
     "shell.execute_reply": "2023-11-12T19:26:24.405437Z"
    },
    "papermill": {
     "duration": 0.017097,
     "end_time": "2023-11-12T19:26:24.408139",
     "exception": false,
     "start_time": "2023-11-12T19:26:24.391042",
     "status": "completed"
    },
    "tags": []
   },
   "outputs": [],
   "source": [
    "# X_val, X_test, y_val, y_test = train_test_split(X_val_test, y_val_test, train_size=0.5, random_state=42)"
   ]
  },
  {
   "cell_type": "code",
   "execution_count": 8,
   "id": "e4fb2f4d",
   "metadata": {
    "execution": {
     "iopub.execute_input": "2023-11-12T19:26:24.430303Z",
     "iopub.status.busy": "2023-11-12T19:26:24.429995Z",
     "iopub.status.idle": "2023-11-12T19:26:24.435130Z",
     "shell.execute_reply": "2023-11-12T19:26:24.434264Z"
    },
    "papermill": {
     "duration": 0.018485,
     "end_time": "2023-11-12T19:26:24.437152",
     "exception": false,
     "start_time": "2023-11-12T19:26:24.418667",
     "status": "completed"
    },
    "tags": []
   },
   "outputs": [
    {
     "name": "stdout",
     "output_type": "stream",
     "text": [
      "X train Shape : (40000,)\n",
      "y train Shape : (40000,)\n",
      "\n",
      "X test Shape : (10000,)\n",
      "y test Shape : (10000,)\n"
     ]
    }
   ],
   "source": [
    "print(f'X train Shape : {X_train.shape}')\n",
    "print(f'y train Shape : {y_train.shape}')\n",
    "print()\n",
    "# print(f'X val Shape : {X_val.shape}')\n",
    "# print(f'y val Shape : {y_val.shape}')\n",
    "# print()\n",
    "print(f'X test Shape : {X_test.shape}')\n",
    "print(f'y test Shape : {y_test.shape}')"
   ]
  },
  {
   "cell_type": "code",
   "execution_count": 9,
   "id": "7583093d",
   "metadata": {
    "execution": {
     "iopub.execute_input": "2023-11-12T19:26:24.460031Z",
     "iopub.status.busy": "2023-11-12T19:26:24.459732Z",
     "iopub.status.idle": "2023-11-12T19:26:24.463499Z",
     "shell.execute_reply": "2023-11-12T19:26:24.462737Z"
    },
    "papermill": {
     "duration": 0.017231,
     "end_time": "2023-11-12T19:26:24.465422",
     "exception": false,
     "start_time": "2023-11-12T19:26:24.448191",
     "status": "completed"
    },
    "tags": []
   },
   "outputs": [],
   "source": [
    "total_words = 1000\n",
    "max_length = 120"
   ]
  },
  {
   "cell_type": "code",
   "execution_count": 10,
   "id": "3ad98d4e",
   "metadata": {
    "execution": {
     "iopub.execute_input": "2023-11-12T19:26:24.487664Z",
     "iopub.status.busy": "2023-11-12T19:26:24.487367Z",
     "iopub.status.idle": "2023-11-12T19:26:32.734594Z",
     "shell.execute_reply": "2023-11-12T19:26:32.733647Z"
    },
    "papermill": {
     "duration": 8.260802,
     "end_time": "2023-11-12T19:26:32.736920",
     "exception": false,
     "start_time": "2023-11-12T19:26:24.476118",
     "status": "completed"
    },
    "tags": []
   },
   "outputs": [],
   "source": [
    "tokenizer = Tokenizer(num_words=total_words,oov_token='<OOV>')\n",
    "tokenizer.fit_on_texts(X_train)"
   ]
  },
  {
   "cell_type": "code",
   "execution_count": 11,
   "id": "cfe881af",
   "metadata": {
    "execution": {
     "iopub.execute_input": "2023-11-12T19:26:32.761370Z",
     "iopub.status.busy": "2023-11-12T19:26:32.761025Z",
     "iopub.status.idle": "2023-11-12T19:26:32.766966Z",
     "shell.execute_reply": "2023-11-12T19:26:32.766079Z"
    },
    "papermill": {
     "duration": 0.01976,
     "end_time": "2023-11-12T19:26:32.768957",
     "exception": false,
     "start_time": "2023-11-12T19:26:32.749197",
     "status": "completed"
    },
    "tags": []
   },
   "outputs": [
    {
     "data": {
      "text/plain": [
       "112281"
      ]
     },
     "execution_count": 11,
     "metadata": {},
     "output_type": "execute_result"
    }
   ],
   "source": [
    "len(tokenizer.word_index)"
   ]
  },
  {
   "cell_type": "code",
   "execution_count": 12,
   "id": "f28ed2b4",
   "metadata": {
    "execution": {
     "iopub.execute_input": "2023-11-12T19:26:32.792149Z",
     "iopub.status.busy": "2023-11-12T19:26:32.791390Z",
     "iopub.status.idle": "2023-11-12T19:26:40.069456Z",
     "shell.execute_reply": "2023-11-12T19:26:40.068382Z"
    },
    "papermill": {
     "duration": 7.292211,
     "end_time": "2023-11-12T19:26:40.071986",
     "exception": false,
     "start_time": "2023-11-12T19:26:32.779775",
     "status": "completed"
    },
    "tags": []
   },
   "outputs": [],
   "source": [
    "train_seq = tokenizer.texts_to_sequences(X_train)\n",
    "train_padd = pad_sequences(train_seq,maxlen=max_length,truncating='post')"
   ]
  },
  {
   "cell_type": "code",
   "execution_count": 13,
   "id": "60d1d2cb",
   "metadata": {
    "execution": {
     "iopub.execute_input": "2023-11-12T19:26:40.094666Z",
     "iopub.status.busy": "2023-11-12T19:26:40.094348Z",
     "iopub.status.idle": "2023-11-12T19:26:40.098132Z",
     "shell.execute_reply": "2023-11-12T19:26:40.097261Z"
    },
    "papermill": {
     "duration": 0.017217,
     "end_time": "2023-11-12T19:26:40.100124",
     "exception": false,
     "start_time": "2023-11-12T19:26:40.082907",
     "status": "completed"
    },
    "tags": []
   },
   "outputs": [],
   "source": [
    "# val_seq = tokenizer.texts_to_sequences(X_val)\n",
    "# val_padd = pad_sequences(val_seq,maxlen=max_length,truncating='post')"
   ]
  },
  {
   "cell_type": "code",
   "execution_count": 14,
   "id": "4962b359",
   "metadata": {
    "execution": {
     "iopub.execute_input": "2023-11-12T19:26:40.122372Z",
     "iopub.status.busy": "2023-11-12T19:26:40.122093Z",
     "iopub.status.idle": "2023-11-12T19:26:41.860180Z",
     "shell.execute_reply": "2023-11-12T19:26:41.859113Z"
    },
    "papermill": {
     "duration": 1.751952,
     "end_time": "2023-11-12T19:26:41.862591",
     "exception": false,
     "start_time": "2023-11-12T19:26:40.110639",
     "status": "completed"
    },
    "tags": []
   },
   "outputs": [],
   "source": [
    "test_seq = tokenizer.texts_to_sequences(X_test)\n",
    "test_padd = pad_sequences(test_seq,maxlen=max_length,truncating='post')"
   ]
  },
  {
   "cell_type": "code",
   "execution_count": 15,
   "id": "58b8fd00",
   "metadata": {
    "execution": {
     "iopub.execute_input": "2023-11-12T19:26:41.885348Z",
     "iopub.status.busy": "2023-11-12T19:26:41.885033Z",
     "iopub.status.idle": "2023-11-12T19:26:41.895800Z",
     "shell.execute_reply": "2023-11-12T19:26:41.895067Z"
    },
    "papermill": {
     "duration": 0.024163,
     "end_time": "2023-11-12T19:26:41.897691",
     "exception": false,
     "start_time": "2023-11-12T19:26:41.873528",
     "status": "completed"
    },
    "tags": []
   },
   "outputs": [],
   "source": [
    "max_seq_len = max([len(x) for x in train_seq])"
   ]
  },
  {
   "cell_type": "code",
   "execution_count": 16,
   "id": "e8d22d9e",
   "metadata": {
    "execution": {
     "iopub.execute_input": "2023-11-12T19:26:41.920481Z",
     "iopub.status.busy": "2023-11-12T19:26:41.920180Z",
     "iopub.status.idle": "2023-11-12T19:26:41.925676Z",
     "shell.execute_reply": "2023-11-12T19:26:41.924835Z"
    },
    "papermill": {
     "duration": 0.019228,
     "end_time": "2023-11-12T19:26:41.927610",
     "exception": false,
     "start_time": "2023-11-12T19:26:41.908382",
     "status": "completed"
    },
    "tags": []
   },
   "outputs": [
    {
     "data": {
      "text/plain": [
       "2493"
      ]
     },
     "execution_count": 16,
     "metadata": {},
     "output_type": "execute_result"
    }
   ],
   "source": [
    "max_seq_len"
   ]
  },
  {
   "cell_type": "code",
   "execution_count": 17,
   "id": "f658df99",
   "metadata": {
    "execution": {
     "iopub.execute_input": "2023-11-12T19:26:41.995795Z",
     "iopub.status.busy": "2023-11-12T19:26:41.995431Z",
     "iopub.status.idle": "2023-11-12T19:26:42.001484Z",
     "shell.execute_reply": "2023-11-12T19:26:42.000539Z"
    },
    "papermill": {
     "duration": 0.020595,
     "end_time": "2023-11-12T19:26:42.003924",
     "exception": false,
     "start_time": "2023-11-12T19:26:41.983329",
     "status": "completed"
    },
    "tags": []
   },
   "outputs": [
    {
     "name": "stdout",
     "output_type": "stream",
     "text": [
      "Text :\n",
      "I don't know how this movie received so many positive reviews on this site! I'm a big vonnegut fan and am very familiar with the story this Showtime original film bastardized beyond belief, but even if I wasn't, the poor acting, VERY poor casting (Sean Astin as the brilliant, athletic, and all around individual, Harrison?? The guy's completely generic!) and sub-standard writing rendered this tripe barely watchable. Someone pointed out how cute that Maculay Culkin line was. If you read that and thought that was pure comic brilliance (sadly, it probably was the most INTENTIONALLY funny part of the movie), maybe you'll like this movie. But if you're a Vonnegut fan or not completely insane, don't see it. Please.\n",
      "\n",
      "\n",
      "Sequence :\n",
      "[11, 90, 119, 87, 12, 18, 1, 35, 108, 1, 826, 21, 12, 1, 145, 4, 194, 1, 324, 3, 236, 52, 1, 17, 2, 63, 12, 1, 210, 20, 1, 667, 1, 19, 58, 44, 11, 292, 2, 334, 113, 52, 334, 1, 1, 1, 15, 2, 512, 1, 3, 30, 184, 1, 1, 2, 1, 338, 1, 3, 1, 1, 487, 1, 12, 1, 1, 1, 296, 1, 42, 87, 1, 13, 1, 1, 350, 14, 44, 23, 340, 13, 3, 188, 13, 14, 1, 758, 1, 1, 10, 238, 14, 2, 89, 1, 155, 174, 5, 2, 18, 273, 467, 38, 12, 18, 19, 44, 339, 4, 1, 324, 39, 22, 338, 1, 90, 65, 10, 591]\n",
      "\n",
      "\n",
      "Padded Sequence :\n",
      "[ 11  90 119  87  12  18   1  35 108   1 826  21  12   1 145   4 194   1\n",
      " 324   3 236  52   1  17   2  63  12   1 210  20   1 667   1  19  58  44\n",
      "  11 292   2 334 113  52 334   1   1   1  15   2 512   1   3  30 184   1\n",
      "   1   2   1 338   1   3   1   1 487   1  12   1   1   1 296   1  42  87\n",
      "   1  13   1   1 350  14  44  23 340  13   3 188  13  14   1 758   1   1\n",
      "  10 238  14   2  89   1 155 174   5   2  18 273 467  38  12  18  19  44\n",
      " 339   4   1 324  39  22 338   1  90  65  10 591]\n",
      "\n",
      "\n"
     ]
    }
   ],
   "source": [
    "# example on train \n",
    "index = 5\n",
    "print(f'Text :\\n{X_train[index]}\\n\\n')\n",
    "print(f'Sequence :\\n{train_seq[index]}\\n\\n')\n",
    "print(f'Padded Sequence :\\n{train_padd[index]}\\n\\n')"
   ]
  },
  {
   "cell_type": "code",
   "execution_count": 18,
   "id": "fdb9d55d",
   "metadata": {
    "execution": {
     "iopub.execute_input": "2023-11-12T19:26:42.026786Z",
     "iopub.status.busy": "2023-11-12T19:26:42.026495Z",
     "iopub.status.idle": "2023-11-12T19:26:42.030277Z",
     "shell.execute_reply": "2023-11-12T19:26:42.029519Z"
    },
    "papermill": {
     "duration": 0.017434,
     "end_time": "2023-11-12T19:26:42.032151",
     "exception": false,
     "start_time": "2023-11-12T19:26:42.014717",
     "status": "completed"
    },
    "tags": []
   },
   "outputs": [],
   "source": [
    "# # example on val \n",
    "# index = 5\n",
    "# print(f'Text :\\n{X_val[index]}\\n\\n')\n",
    "# print(f'Sequence :\\n{val_seq[index]}\\n\\n')\n",
    "# print(f'Padded Sequence :\\n{val_padd[index]}\\n\\n')"
   ]
  },
  {
   "cell_type": "code",
   "execution_count": 19,
   "id": "920b57ae",
   "metadata": {
    "execution": {
     "iopub.execute_input": "2023-11-12T19:26:42.055554Z",
     "iopub.status.busy": "2023-11-12T19:26:42.055043Z",
     "iopub.status.idle": "2023-11-12T19:26:42.061662Z",
     "shell.execute_reply": "2023-11-12T19:26:42.060743Z"
    },
    "papermill": {
     "duration": 0.020936,
     "end_time": "2023-11-12T19:26:42.064125",
     "exception": false,
     "start_time": "2023-11-12T19:26:42.043189",
     "status": "completed"
    },
    "tags": []
   },
   "outputs": [
    {
     "name": "stdout",
     "output_type": "stream",
     "text": [
      "Text :\n",
      "I've watched this movie on a fairly regular basis for most of my life, and it never gets old. For all the snide remarks and insults (mostly from David Spade), \"Tommy Boy\" has a giant heart. And that's what keeps this movie funny after all these years.<br /><br />Tommy Callahan (Chris Farley) is the son of Big Tom Callahan (Brian Dennehy), master car parts salesman, and has ridden on that all his life. But after his died dies on his wedding day, Tommy learns that the company is in debt, and about to be bought by Ray Zalinsky (Dan Akroyd), the owner of a huge car parts company. So in order to save the company, Tommy has to go on the road to sell the company's new brake pads. Along for the ride, though not by choice, is Richard Hayden (David Spade) a former classmate of Tommy's who was Big Tom's right-hand man.<br /><br />The movie rides on the chemistry between the two SNL stars (and real-life best friends) Chris Farley and David Spade. The duo has enough comic energy going between them to power the world. It's the big, dumb guy versus the smart little guy. It works, and some of their scenes are unforgettably funny. Farley and Spade are actually decent dramatic actors as well. Although the film is primarily a comedy, it has its fair share of drama, but Spade and especially Farley are just as good there as when they're making the audience laugh.<br /><br />Forgive me, but I have to talk about Chris Farley a little more. I read his biography (\"The Chris Farley Show: A Biography in Three Acts,\" for anyone who cares), and understanding who Chris was in real life made this movie more special to me. Chris Farley was a genuinely good person who struggled, and ultimately failed to conquer his addictions. Although this was the first movie he had a major role in, it is his best film. It really showed who he was, and just how much talent he had. Knowing Chris's story adds another layer to this movie, although it doesn't make it any less funny.<br /><br />Farley and Spade are matched with a good on screen cast. Rob Lowe is suitably slimy as Tommy's \"new brother,\" and Bo Derek is solid as his step-mother. Brian Dennehy is great as Big Tom. Dennehy makes it easy to believe that they're father in son. Big Tom is just as crazy as his son, although he's smarter and more mature. Dan Akroyd gives one of his best performances as Zalinsky, giving Tommy the hard truth behind advertising. Julie Warner is also good as Tommy's love interest, Michelle.<br /><br />For me, Peter Segal is one of the great comedy directors. He keeps the pace quick and energetic, but most importantly, he knows how to make comedy funny. He doesn't belabor the jokes, and he understands that funny actors know what they're doing and he allows them to do it. But Segal goes a step further. He gives \"Tommy Boy\" a friendly, almost nostalgic tone that both tugs the heartstrings (genuinely) and tickles the funnybone.<br /><br />Critics didn't like \"Tommy Boy.\" Shame on them. A movie doesn't have to be super sophisticated or subversively intellectual to be funny (God forbid Farley and Spade were forced to do muted comedy a la \"The Office\"). This is a great movie and one of my all-time favorites.\n",
      "\n",
      "\n",
      "Sequence :\n",
      "[199, 285, 12, 18, 21, 4, 998, 1, 1, 16, 89, 5, 57, 115, 3, 10, 112, 218, 157, 16, 30, 2, 1, 1, 3, 1, 682, 36, 617, 1, 1, 419, 46, 4, 1, 488, 3, 198, 49, 954, 12, 18, 155, 101, 30, 133, 153, 8, 8, 1, 1, 1, 1, 7, 2, 495, 5, 194, 865, 1, 1, 1, 1, 524, 525, 1, 3, 46, 1, 21, 13, 30, 25, 115, 19, 101, 25, 1, 1, 21, 25, 1, 256, 1, 1, 13, 2, 1, 7, 9, 1, 3, 43, 6, 27, 1, 32, 1, 1, 1, 1, 2, 1, 5, 4, 638, 524, 525, 1, 35, 9, 629, 6, 586, 2, 1, 1, 46, 6, 140, 21, 2, 1, 6, 1, 2, 1, 170, 1, 1, 342, 16, 2, 1, 151, 22, 32, 1, 7, 824, 1, 617, 1, 4, 1, 1, 5, 1, 37, 14, 194, 1, 204, 522, 130, 8, 8, 2, 18, 1, 21, 2, 1, 207, 2, 107, 1, 400, 3, 144, 115, 116, 351, 1, 1, 3, 617, 1, 2, 1, 46, 193, 758, 1, 165, 207, 93, 6, 661, 2, 180, 45, 2, 194, 942, 225, 1, 2, 1, 120, 225, 10, 506, 3, 48, 5, 66, 135, 24, 1, 155, 1, 3, 1, 24, 159, 536, 993, 152, 15, 70, 257, 2, 20, 7, 1, 4, 209, 10, 46, 95, 1, 1, 5, 453, 19, 1, 3, 264, 1, 24, 40, 15, 50, 47, 15, 53, 513, 232, 2, 311, 426, 8, 8, 1, 69, 19, 11, 26, 6, 706, 43, 1, 1, 4, 120, 51, 11, 340, 25, 1, 2, 1, 1, 121, 4, 1, 9, 281, 1, 16, 250, 37, 1, 3, 1, 37, 1, 14, 9, 144, 115, 91, 12, 18, 51, 299, 6, 69, 1, 1, 14, 4, 1, 50, 402, 37, 1, 3, 1, 1, 6, 1, 25, 1, 257, 12, 14, 2, 86, 18, 29, 67, 4, 665, 217, 9, 10, 7, 25, 116, 20, 10, 64, 1, 37, 29, 14, 3, 40, 87, 74, 624, 29, 67, 1, 1, 63, 1, 158, 1, 6, 12, 18, 257, 10, 150, 94, 10, 100, 346, 155, 8, 8, 1, 3, 1, 24, 1, 17, 4, 50, 21, 262, 175, 1, 1, 7, 1, 1, 15, 1, 170, 616, 3, 1, 1, 7, 1, 15, 25, 1, 413, 1, 1, 7, 79, 15, 194, 865, 1, 162, 10, 768, 6, 261, 13, 513, 354, 9, 495, 194, 865, 7, 40, 15, 997, 15, 25, 495, 257, 241, 1, 3, 51, 1, 1, 1, 410, 28, 5, 25, 116, 366, 15, 1, 740, 1, 2, 248, 875, 508, 1, 1, 1, 7, 80, 50, 15, 1, 114, 611, 1, 8, 8, 16, 69, 843, 1, 7, 28, 5, 2, 79, 209, 1, 29, 954, 2, 1, 1, 3, 1, 19, 89, 1, 29, 693, 87, 6, 94, 209, 155, 29, 150, 1, 2, 619, 3, 29, 1, 13, 155, 152, 119, 49, 513, 408, 3, 29, 1, 93, 6, 77, 10, 19, 1, 272, 4, 1, 1, 29, 410, 1, 419, 4, 1, 215, 1, 1, 13, 196, 1, 2, 1, 1, 3, 1, 2, 1, 8, 8, 1, 154, 38, 1, 419, 860, 21, 93, 4, 18, 150, 26, 6, 27, 1, 1, 39, 1, 1, 6, 27, 155, 551, 1, 1, 3, 1, 71, 881, 6, 77, 1, 209, 4, 1, 2, 1, 12, 7, 4, 79, 18, 3, 28, 5, 57, 30, 56, 1]\n",
      "\n",
      "\n",
      "Padded Sequence :\n",
      "[199 285  12  18  21   4 998   1   1  16  89   5  57 115   3  10 112 218\n",
      " 157  16  30   2   1   1   3   1 682  36 617   1   1 419  46   4   1 488\n",
      "   3 198  49 954  12  18 155 101  30 133 153   8   8   1   1   1   1   7\n",
      "   2 495   5 194 865   1   1   1   1 524 525   1   3  46   1  21  13  30\n",
      "  25 115  19 101  25   1   1  21  25   1 256   1   1  13   2   1   7   9\n",
      "   1   3  43   6  27   1  32   1   1   1   1   2   1   5   4 638 524 525\n",
      "   1  35   9 629   6 586   2   1   1  46   6 140]\n",
      "\n",
      "\n"
     ]
    }
   ],
   "source": [
    "# example on val \n",
    "index = 5\n",
    "print(f'Text :\\n{X_test[index]}\\n\\n')\n",
    "print(f'Sequence :\\n{test_seq[index]}\\n\\n')\n",
    "print(f'Padded Sequence :\\n{test_padd[index]}\\n\\n')"
   ]
  },
  {
   "cell_type": "code",
   "execution_count": 20,
   "id": "d185f9a9",
   "metadata": {
    "execution": {
     "iopub.execute_input": "2023-11-12T19:26:42.087880Z",
     "iopub.status.busy": "2023-11-12T19:26:42.087181Z",
     "iopub.status.idle": "2023-11-12T19:26:45.908941Z",
     "shell.execute_reply": "2023-11-12T19:26:45.907921Z"
    },
    "papermill": {
     "duration": 3.836152,
     "end_time": "2023-11-12T19:26:45.911280",
     "exception": false,
     "start_time": "2023-11-12T19:26:42.075128",
     "status": "completed"
    },
    "tags": []
   },
   "outputs": [],
   "source": [
    "embedding_dim = 16\n",
    "model = Sequential([\n",
    "        Embedding(total_words,embedding_dim,input_length=max_length),\n",
    "        Bidirectional(LSTM(64,return_sequences=True)),\n",
    "        Bidirectional(LSTM(32)),\n",
    "        \n",
    "        Dense(6,activation='relu'),\n",
    "        Dense(1,activation='sigmoid')\n",
    "])"
   ]
  },
  {
   "cell_type": "code",
   "execution_count": 21,
   "id": "6576bf58",
   "metadata": {
    "execution": {
     "iopub.execute_input": "2023-11-12T19:26:45.934930Z",
     "iopub.status.busy": "2023-11-12T19:26:45.934620Z",
     "iopub.status.idle": "2023-11-12T19:26:45.960348Z",
     "shell.execute_reply": "2023-11-12T19:26:45.959359Z"
    },
    "papermill": {
     "duration": 0.041832,
     "end_time": "2023-11-12T19:26:45.964483",
     "exception": false,
     "start_time": "2023-11-12T19:26:45.922651",
     "status": "completed"
    },
    "tags": []
   },
   "outputs": [
    {
     "name": "stdout",
     "output_type": "stream",
     "text": [
      "Model: \"sequential\"\n",
      "_________________________________________________________________\n",
      " Layer (type)                Output Shape              Param #   \n",
      "=================================================================\n",
      " embedding (Embedding)       (None, 120, 16)           16000     \n",
      "                                                                 \n",
      " bidirectional (Bidirection  (None, 120, 128)          41472     \n",
      " al)                                                             \n",
      "                                                                 \n",
      " bidirectional_1 (Bidirecti  (None, 64)                41216     \n",
      " onal)                                                           \n",
      "                                                                 \n",
      " dense (Dense)               (None, 6)                 390       \n",
      "                                                                 \n",
      " dense_1 (Dense)             (None, 1)                 7         \n",
      "                                                                 \n",
      "=================================================================\n",
      "Total params: 99085 (387.05 KB)\n",
      "Trainable params: 99085 (387.05 KB)\n",
      "Non-trainable params: 0 (0.00 Byte)\n",
      "_________________________________________________________________\n"
     ]
    }
   ],
   "source": [
    "model.summary()"
   ]
  },
  {
   "cell_type": "code",
   "execution_count": 22,
   "id": "ad01164a",
   "metadata": {
    "execution": {
     "iopub.execute_input": "2023-11-12T19:26:45.990700Z",
     "iopub.status.busy": "2023-11-12T19:26:45.990403Z",
     "iopub.status.idle": "2023-11-12T19:26:45.996322Z",
     "shell.execute_reply": "2023-11-12T19:26:45.995441Z"
    },
    "papermill": {
     "duration": 0.021052,
     "end_time": "2023-11-12T19:26:45.998236",
     "exception": false,
     "start_time": "2023-11-12T19:26:45.977184",
     "status": "completed"
    },
    "tags": []
   },
   "outputs": [],
   "source": [
    "from tensorflow.keras.callbacks import ModelCheckpoint , ReduceLROnPlateau ,EarlyStopping\n",
    "callbacks = [\n",
    "            EarlyStopping(patience = 10, verbose=1),\n",
    "            ReduceLROnPlateau(factor = 0.5, patience = 3, min_lr = 0.000001, verbose=1),\n",
    "            ModelCheckpoint('model.h5', monitor='val_loss', save_best_only=True,\n",
    "            verbose=1)\n",
    "\n",
    "    ]"
   ]
  },
  {
   "cell_type": "code",
   "execution_count": 23,
   "id": "5c942d2b",
   "metadata": {
    "execution": {
     "iopub.execute_input": "2023-11-12T19:26:46.024521Z",
     "iopub.status.busy": "2023-11-12T19:26:46.024267Z",
     "iopub.status.idle": "2023-11-12T19:26:46.040160Z",
     "shell.execute_reply": "2023-11-12T19:26:46.039443Z"
    },
    "papermill": {
     "duration": 0.031151,
     "end_time": "2023-11-12T19:26:46.042054",
     "exception": false,
     "start_time": "2023-11-12T19:26:46.010903",
     "status": "completed"
    },
    "tags": []
   },
   "outputs": [],
   "source": [
    "model.compile(optimizer=Adam(0.001),loss='binary_crossentropy',metrics=['accuracy'])"
   ]
  },
  {
   "cell_type": "code",
   "execution_count": null,
   "id": "991114a3",
   "metadata": {
    "execution": {
     "iopub.execute_input": "2023-11-12T19:26:46.068181Z",
     "iopub.status.busy": "2023-11-12T19:26:46.067887Z",
     "iopub.status.idle": "2023-11-12T19:36:26.541640Z",
     "shell.execute_reply": "2023-11-12T19:36:26.540688Z"
    },
    "papermill": {
     "duration": 581.075239,
     "end_time": "2023-11-12T19:36:27.129848",
     "exception": false,
     "start_time": "2023-11-12T19:26:46.054609",
     "status": "completed"
    },
    "tags": []
   },
   "outputs": [],
   "source": [
    "history = model.fit(train_padd,y_train,epochs=20,validation_data=(test_padd,y_test),callbacks=[callbacks])"
   ]
  },
  {
   "cell_type": "code",
   "execution_count": 25,
   "id": "39ebf3c0",
   "metadata": {
    "execution": {
     "iopub.execute_input": "2023-11-12T19:36:28.359539Z",
     "iopub.status.busy": "2023-11-12T19:36:28.359178Z",
     "iopub.status.idle": "2023-11-12T19:36:28.915571Z",
     "shell.execute_reply": "2023-11-12T19:36:28.914609Z"
    },
    "papermill": {
     "duration": 1.145404,
     "end_time": "2023-11-12T19:36:28.917534",
     "exception": false,
     "start_time": "2023-11-12T19:36:27.772130",
     "status": "completed"
    },
    "tags": []
   },
   "outputs": [
    {
     "data": {
      "image/png": "[encoded data removed]",
      "text/plain": [
       "<Figure size 640x480 with 1 Axes>"
      ]
     },
     "metadata": {},
     "output_type": "display_data"
    },
    {
     "data": {
      "image/png": "[encoded data removed]",
      "text/plain": [
       "<Figure size 640x480 with 1 Axes>"
      ]
     },
     "metadata": {},
     "output_type": "display_data"
    }
   ],
   "source": [
    "def plot_graphs(history, string):\n",
    "        plt.plot(history.history[string])\n",
    "        plt.plot(history.history['val_'+string])\n",
    "        plt.xlabel(\"Epochs\")\n",
    "        plt.ylabel(string)\n",
    "        plt.legend([string, 'val_'+string])\n",
    "        plt.show()\n",
    "\n",
    "plot_graphs(history, 'accuracy')\n",
    "plot_graphs(history, 'loss')"
   ]
  },
  {
   "cell_type": "code",
   "execution_count": 26,
   "id": "f114521f",
   "metadata": {
    "execution": {
     "iopub.execute_input": "2023-11-12T19:36:30.109134Z",
     "iopub.status.busy": "2023-11-12T19:36:30.108772Z",
     "iopub.status.idle": "2023-11-12T19:36:33.511064Z",
     "shell.execute_reply": "2023-11-12T19:36:33.510178Z"
    },
    "papermill": {
     "duration": 3.99563,
     "end_time": "2023-11-12T19:36:33.513182",
     "exception": false,
     "start_time": "2023-11-12T19:36:29.517552",
     "status": "completed"
    },
    "tags": []
   },
   "outputs": [
    {
     "name": "stdout",
     "output_type": "stream",
     "text": [
      "313/313 [==============================] - 3s 11ms/step - loss: 0.4762 - accuracy: 0.8150\n"
     ]
    },
    {
     "data": {
      "text/plain": [
       "[0.47621485590934753, 0.8149999976158142]"
      ]
     },
     "execution_count": 26,
     "metadata": {},
     "output_type": "execute_result"
    }
   ],
   "source": [
    "model.evaluate(test_padd,y_test)"
   ]
  }
 ],
 "metadata": {
  "kernelspec": {
   "display_name": "Python 3",
   "language": "python",
   "name": "python3"
  },
  "language_info": {
   "codemirror_mode": {
    "name": "ipython",
    "version": 3
   },
   "file_extension": ".py",
   "mimetype": "text/x-python",
   "name": "python",
   "nbconvert_exporter": "python",
   "pygments_lexer": "ipython3",
   "version": "3.11.5"
  },
  "papermill": {
   "default_parameters": {},
   "duration": 653.322831,
   "end_time": "2023-11-12T19:37:00.204439",
   "environment_variables": {},
   "exception": null,
   "input_path": "__notebook__.ipynb",
   "output_path": "__notebook__.ipynb",
   "parameters": {},
   "start_time": "2023-11-12T19:26:06.881608",
   "version": "2.4.0"
  }
 },
 "nbformat": 4,
 "nbformat_minor": 5
}
